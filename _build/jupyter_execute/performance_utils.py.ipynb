{
 "cells": [
  {
   "cell_type": "markdown",
   "metadata": {},
   "source": [
    "## Confusion matrix"
   ]
  },
  {
   "cell_type": "code",
   "execution_count": null,
   "metadata": {},
   "outputs": [],
   "source": [
    "predictions = tf.concat(predictions, axis=0)\n",
    "predictions = tf.argmax(predictions, axis=1, output_type=tf.int32)\n",
    "\n",
    "labels = tf.argmax(test_y, axis=1, output_type=tf.int32)\n",
    "\n",
    "confusion_matrix = tf.math.confusion_matrix(labels, \n",
    "                                            predictions, \n",
    "                                            num_classes=num_clips, \n",
    "                                            dtype=tf.float32)\n",
    "print(np.sum(np.sum(confusion_matrix, axis=1))/76)\n",
    "print(confusion_matrix)"
   ]
  },
  {
   "cell_type": "code",
   "execution_count": null,
   "metadata": {},
   "outputs": [],
   "source": [
    "import plotly.figure_factory as ff\n",
    "\n",
    "# predicted clip names\n",
    "clip_names_pred = clip_names\n",
    "# true clip names\n",
    "clip_names_true =  clip_names\n",
    "\n",
    "# change each element of z to type string for annotations\n",
    "confusion_matrix_text = [[str(y) for y in x] for x in confusion_matrix]\n",
    "\n",
    "# set up figure \n",
    "fig = ff.create_annotated_heatmap(confusion_matrix, \n",
    "                                  x=clip_names_pred, \n",
    "                                  y=clip_names_true, \n",
    "                                  annotation_text=confusion_matrix_text, \n",
    "                                  colorscale='Viridis')\n",
    "\n",
    "# add title\n",
    "fig.update_layout(title_text='<i><b>Confusion matrix</b></i>',\n",
    "                  #xaxis = dict(title='x'),\n",
    "                  #yaxis = dict(title='x')\n",
    "                 )\n",
    "\n",
    "# add custom xaxis title\n",
    "fig.add_annotation(dict(font=dict(color=\"black\",size=14),\n",
    "                        x=0.5,\n",
    "                        y=-0.15,\n",
    "                        showarrow=False,\n",
    "                        text=\"Predicted clip names\",\n",
    "                        xref=\"paper\",\n",
    "                        yref=\"paper\"))\n",
    "\n",
    "# add custom yaxis title\n",
    "fig.add_annotation(dict(font=dict(color=\"black\",size=14),\n",
    "                        x=-0.35,\n",
    "                        y=0.5,\n",
    "                        showarrow=False,\n",
    "                        text=\"True clip names\",\n",
    "                        textangle=-90,\n",
    "                        xref=\"paper\",\n",
    "                        yref=\"paper\"))\n",
    "\n",
    "# adjust margins to make room for yaxis title\n",
    "fig.update_layout(margin=dict(t=50, l=200))\n",
    "\n",
    "# add colorbar\n",
    "fig['data'][0]['showscale'] = True\n",
    "fig.show()"
   ]
  }
 ],
 "metadata": {
  "kernelspec": {
   "display_name": "Python 3",
   "language": "python",
   "name": "python3"
  },
  "language_info": {
   "codemirror_mode": {
    "name": "ipython",
    "version": 3
   },
   "file_extension": ".py",
   "mimetype": "text/x-python",
   "name": "python",
   "nbconvert_exporter": "python",
   "pygments_lexer": "ipython3",
   "version": "3.7.6"
  }
 },
 "nbformat": 4,
 "nbformat_minor": 4
}