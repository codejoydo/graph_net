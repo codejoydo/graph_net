{
 "cells": [
  {
   "cell_type": "code",
   "execution_count": 1,
   "metadata": {},
   "outputs": [],
   "source": [
    "from __future__ import absolute_import\n",
    "from __future__ import division\n",
    "from __future__ import print_function\n",
    "\n",
    "import time\n",
    "\n",
    "\n",
    "from graph_nets import utils_np\n",
    "from graph_nets import utils_tf\n",
    "from graph_nets.demos_tf2 import models\n",
    "import matplotlib.pyplot as plt\n",
    "import numpy as np\n",
    "\n",
    "import sonnet as snt\n",
    "import tensorflow as tf\n",
    "\n",
    "from dataloader import _clip_class_df, _get_clip_seq\n",
    "from graph_utils import _clip_graphs\n",
    "\n",
    " \n",
    "SEED = 1\n",
    "np.random.seed(SEED)\n",
    "tf.random.set_seed(SEED)"
   ]
  },
  {
   "cell_type": "code",
   "execution_count": 2,
   "metadata": {},
   "outputs": [
    {
     "name": "stdout",
     "output_type": "stream",
     "text": [
      "loading run 1/1\n"
     ]
    }
   ],
   "source": [
    "class ARGS():\n",
    "    pass\n",
    "\n",
    "args = ARGS()\n",
    "args.roi = 300 # number of ROIs\n",
    "args.net = 7 # number of subnetworks (7 or 17)\n",
    "args.subnet = 'wb' #subnetwork; 'wb' if all subnetworks\n",
    "args.invert_flag = False # all-but-one subnetwork\n",
    "args.input_data = 'data/roi_ts'\n",
    "args.zscore = 1\n",
    "\n",
    "\n",
    "df = _clip_class_df(args)"
   ]
  },
  {
   "cell_type": "code",
   "execution_count": 3,
   "metadata": {},
   "outputs": [],
   "source": [
    "args.k_class = len(np.unique(df['y']))\n",
    "subject_list = df['Subject'].unique()\n",
    "X, X_len, y = _get_clip_seq(df, subject_list, args)"
   ]
  },
  {
   "cell_type": "code",
   "execution_count": 4,
   "metadata": {},
   "outputs": [
    {
     "name": "stdout",
     "output_type": "stream",
     "text": [
      "880 880 880\n",
      "(245, 300) (245,) 245\n"
     ]
    }
   ],
   "source": [
    "print(len(X), len(y), len(X_len))\n",
    "print(X[1].shape, y[1].shape, X_len[1])"
   ]
  },
  {
   "cell_type": "code",
   "execution_count": 5,
   "metadata": {},
   "outputs": [],
   "source": [
    "def pad_to_dense(M):\n",
    "    \"\"\"Appends the minimal required amount of zeroes at the end of each \n",
    "     array in the jagged array `M`, such that `M` looses its jagedness.\"\"\"\n",
    "\n",
    "    maxlen = max(r.shape[0] for r in M)\n",
    "\n",
    "    Z = []\n",
    "    for enu, row in enumerate(M):\n",
    "        Z.append(np.zeros((maxlen, row.shape[1])))\n",
    "        Z[enu][:row.shape[0],] += row \n",
    "    return Z\n",
    "\n",
    "X1 = pad_to_dense(X)"
   ]
  },
  {
   "cell_type": "code",
   "execution_count": 8,
   "metadata": {},
   "outputs": [],
   "source": [
    "graph_tuple = _clip_graphs(X1)"
   ]
  },
  {
   "cell_type": "code",
   "execution_count": null,
   "metadata": {},
   "outputs": [],
   "source": []
  }
 ],
 "metadata": {
  "kernelspec": {
   "display_name": "Python 3",
   "language": "python",
   "name": "python3"
  },
  "language_info": {
   "codemirror_mode": {
    "name": "ipython",
    "version": 3
   },
   "file_extension": ".py",
   "mimetype": "text/x-python",
   "name": "python",
   "nbconvert_exporter": "python",
   "pygments_lexer": "ipython3",
   "version": "3.7.6"
  }
 },
 "nbformat": 4,
 "nbformat_minor": 4
}
