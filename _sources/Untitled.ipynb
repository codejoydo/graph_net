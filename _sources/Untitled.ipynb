{
 "cells": [
  {
   "cell_type": "code",
   "execution_count": 7,
   "metadata": {},
   "outputs": [],
   "source": [
    "import numpy as np\n",
    "import tensorflow as tf"
   ]
  },
  {
   "cell_type": "code",
   "execution_count": 6,
   "metadata": {},
   "outputs": [
    {
     "name": "stdout",
     "output_type": "stream",
     "text": [
      "(10,)\n",
      "(3,)\n"
     ]
    }
   ],
   "source": [
    "a = np.random.randn(10)\n",
    "print(a.shape)\n",
    "a_batch = a[0:3,...]\n",
    "print(a_batch.shape)"
   ]
  },
  {
   "cell_type": "code",
   "execution_count": 2,
   "metadata": {},
   "outputs": [],
   "source": [
    "a = np.random.randn(2, 4)"
   ]
  },
  {
   "cell_type": "code",
   "execution_count": 4,
   "metadata": {},
   "outputs": [
    {
     "data": {
      "text/plain": [
       "(2, 4)"
      ]
     },
     "execution_count": 4,
     "metadata": {},
     "output_type": "execute_result"
    }
   ],
   "source": [
    "a.shape"
   ]
  },
  {
   "cell_type": "code",
   "execution_count": 9,
   "metadata": {},
   "outputs": [],
   "source": [
    "b = np.random.randn(*a.shape)"
   ]
  },
  {
   "cell_type": "code",
   "execution_count": 12,
   "metadata": {},
   "outputs": [
    {
     "name": "stdout",
     "output_type": "stream",
     "text": [
      "(5,) (5, 5)\n"
     ]
    }
   ],
   "source": [
    "num_nodes = 5\n",
    "mean = np.zeros((num_nodes,))\n",
    "cov = np.eye(num_nodes)\n",
    "print(mean.shape, cov.shape)"
   ]
  },
  {
   "cell_type": "code",
   "execution_count": 27,
   "metadata": {},
   "outputs": [
    {
     "name": "stdout",
     "output_type": "stream",
     "text": [
      "(10, 5)\n",
      "[[-0.45708106  0.33382216  1.50014984  0.01506652  0.39982824]\n",
      " [-0.74846029  0.48756944  0.62461954  0.83556925 -1.4194627 ]\n",
      " [ 0.96130233 -0.31630199 -0.61557709  0.42996287 -2.67812084]\n",
      " [ 0.11936025 -0.10000343  0.16151607 -0.443811    2.29317668]\n",
      " [ 1.38679194  0.12568382  1.746673   -0.21205522 -0.5376354 ]\n",
      " [ 0.50093418 -0.04029988  0.71112874  1.21312982 -0.42259313]\n",
      " [ 0.53777512 -0.1048311  -1.6163122  -1.49667352 -2.64523029]\n",
      " [-1.94427608 -0.10449185  0.95786427  0.39569193  0.99508008]\n",
      " [-2.03889492 -0.82168716  0.81709463 -0.46321211 -0.25158484]\n",
      " [-0.48739958 -1.58452655  2.81255819  0.49050014  1.94994886]]\n"
     ]
    }
   ],
   "source": [
    "num_samples = 10\n",
    "samples = np.random.multivariate_normal(mean, \n",
    "                                        cov, \n",
    "                                        num_samples)\n",
    "print(samples.shape)\n",
    "print(samples)"
   ]
  },
  {
   "cell_type": "code",
   "execution_count": 28,
   "metadata": {},
   "outputs": [
    {
     "data": {
      "text/plain": [
       "0.025045513440181803"
      ]
     },
     "execution_count": 28,
     "metadata": {},
     "output_type": "execute_result"
    }
   ],
   "source": [
    "np.mean(samples)"
   ]
  },
  {
   "cell_type": "code",
   "execution_count": 5,
   "metadata": {},
   "outputs": [
    {
     "name": "stdout",
     "output_type": "stream",
     "text": [
      "[169 106 101  13  22  93  64  32  14  59  18  68  51  83  73  56  63  30\n",
      " 174  54  90  97  69  85  65  80  57 116  38 154 114 168  43 155  98  42\n",
      "  21 130 172 153  89  94 160 151   1  81  10  75 109 119  96 100 146 162\n",
      "   7  25 135  61 126  66 152 134 110 164  88  87  62  17 113 167 120 170\n",
      " 161  11 166   4 156  36 139 141  35 127  99 108 124  45  15 128  92  16\n",
      " 136 159   3 129 137 107  20 157 138  72  91  76 112   6  95  47  58 115\n",
      " 102  33 111  52  29 173  53 163 150   9   8 171  19  79 122 149  28  60\n",
      "  74  26 118 158 132 175  78   5  67 125 104  71 165  44  55  50 117  39\n",
      "  84  31 103  24 140 121  70 148  82  48  86  41 143   0 123 105  49  12\n",
      "  40  77 133 147  46   2 144 131 145  37  34 142  23  27]\n"
     ]
    }
   ],
   "source": [
    "import numpy as np\n",
    "num_subjs = 176\n",
    "perm = np.random.permutation(num_subjs)\n",
    "print(perm)"
   ]
  },
  {
   "cell_type": "code",
   "execution_count": 1,
   "metadata": {},
   "outputs": [],
   "source": [
    "%load_ext tensorboard\n",
    "import tensorflow as tf"
   ]
  },
  {
   "cell_type": "code",
   "execution_count": 2,
   "metadata": {},
   "outputs": [],
   "source": [
    "train_log_dir = 'logs/gradient_tape/train'\n",
    "test_log_dir = 'logs/gradient_tape/test'\n",
    "train_summary_writer = tf.summary.create_file_writer(train_log_dir)\n",
    "test_summary_writer = tf.summary.create_file_writer(test_log_dir)"
   ]
  },
  {
   "cell_type": "code",
   "execution_count": 3,
   "metadata": {},
   "outputs": [
    {
     "data": {
      "text/plain": [
       "Reusing TensorBoard on port 6006 (pid 11255), started 0:19:04 ago. (Use '!kill 11255' to kill it.)"
      ]
     },
     "metadata": {},
     "output_type": "display_data"
    },
    {
     "data": {
      "text/html": [
       "\n",
       "      <iframe id=\"tensorboard-frame-8368418a987c6b1\" width=\"100%\" height=\"800\" frameborder=\"0\">\n",
       "      </iframe>\n",
       "      <script>\n",
       "        (function() {\n",
       "          const frame = document.getElementById(\"tensorboard-frame-8368418a987c6b1\");\n",
       "          const url = new URL(\"/\", window.location);\n",
       "          const port = 6006;\n",
       "          if (port) {\n",
       "            url.port = port;\n",
       "          }\n",
       "          frame.src = url;\n",
       "        })();\n",
       "      </script>\n",
       "    "
      ],
      "text/plain": [
       "<IPython.core.display.HTML object>"
      ]
     },
     "metadata": {},
     "output_type": "display_data"
    }
   ],
   "source": [
    "with train_summary_writer.as_default():\n",
    "    tf.summary.scalar('loss', 10, step=1)\n",
    "#     tf.summary.scalar('accuracy', train_accuracy.result(), step=epoch)\n",
    "\n",
    "%tensorboard --logdir logs/gradient_tape"
   ]
  },
  {
   "cell_type": "code",
   "execution_count": 4,
   "metadata": {},
   "outputs": [],
   "source": [
    "import tensorflow as tf\n",
    "import numpy as np"
   ]
  },
  {
   "cell_type": "code",
   "execution_count": 29,
   "metadata": {},
   "outputs": [],
   "source": [
    "a = tf.Variable(initial_value=tf.random.normal([4], 0, 0.1, dtype=tf.dtypes.float64))"
   ]
  },
  {
   "cell_type": "code",
   "execution_count": 30,
   "metadata": {},
   "outputs": [
    {
     "name": "stdout",
     "output_type": "stream",
     "text": [
      "<dtype: 'float64'>\n"
     ]
    }
   ],
   "source": [
    "print(a.dtype)"
   ]
  },
  {
   "cell_type": "code",
   "execution_count": 8,
   "metadata": {},
   "outputs": [
    {
     "name": "stdout",
     "output_type": "stream",
     "text": [
      "float64\n"
     ]
    }
   ],
   "source": [
    "A = np.random.rand(2, 3, 5)\n",
    "print(A.dtype)"
   ]
  },
  {
   "cell_type": "code",
   "execution_count": 36,
   "metadata": {},
   "outputs": [],
   "source": [
    "y = tf.linalg.matvec(A, a)"
   ]
  },
  {
   "cell_type": "code",
   "execution_count": 45,
   "metadata": {},
   "outputs": [
    {
     "name": "stdout",
     "output_type": "stream",
     "text": [
      "tf.Tensor(\n",
      "[[0.05310376 0.1410784  0.08730775]\n",
      " [0.12893013 0.22669987 0.05162024]], shape=(2, 3), dtype=float64)\n"
     ]
    }
   ],
   "source": [
    "print(y)"
   ]
  },
  {
   "cell_type": "code",
   "execution_count": 44,
   "metadata": {},
   "outputs": [
    {
     "name": "stdout",
     "output_type": "stream",
     "text": [
      "tf.Tensor([0.05310376 0.1410784  0.08730775], shape=(3,), dtype=float64) tf.Tensor([0.12893013 0.22669987 0.05162024], shape=(3,), dtype=float64)\n"
     ]
    }
   ],
   "source": [
    "y0 = tf.linalg.matvec(A[0], a)\n",
    "y1 = tf.linalg.matvec(A[1], a)\n",
    "print(y0, y1)"
   ]
  },
  {
   "cell_type": "code",
   "execution_count": 1,
   "metadata": {},
   "outputs": [],
   "source": [
    "from NLNN import *"
   ]
  },
  {
   "cell_type": "code",
   "execution_count": 5,
   "metadata": {},
   "outputs": [],
   "source": [
    "model = LinearRegression(output_size=3, \n",
    "                         k=5)"
   ]
  },
  {
   "cell_type": "code",
   "execution_count": 6,
   "metadata": {},
   "outputs": [
    {
     "data": {
      "text/plain": [
       "(<tf.Variable 'linear_regression/Variable:0' shape=(5,) dtype=float64, numpy=array([-0.06185958, -0.04307888,  0.08195257, -0.21750221,  0.08948534])>,\n",
       " <tf.Variable 'linear_regression/Variable:0' shape=(3,) dtype=float64, numpy=array([-0.03252261,  0.25389184, -0.02928359])>)"
      ]
     },
     "execution_count": 6,
     "metadata": {},
     "output_type": "execute_result"
    }
   ],
   "source": [
    "model.trainable_variables"
   ]
  },
  {
   "cell_type": "code",
   "execution_count": 9,
   "metadata": {},
   "outputs": [
    {
     "name": "stdout",
     "output_type": "stream",
     "text": [
      "(2, 3, 5) (5,) (3,)\n"
     ]
    },
    {
     "data": {
      "text/plain": [
       "<tf.Tensor: shape=(2, 3), dtype=float64, numpy=\n",
       "array([[-0.05069215,  0.08936318, -0.09121561],\n",
       "       [-0.17777553,  0.08354477, -0.03728198]])>"
      ]
     },
     "execution_count": 9,
     "metadata": {},
     "output_type": "execute_result"
    }
   ],
   "source": [
    "model(A)"
   ]
  },
  {
   "cell_type": "code",
   "execution_count": 28,
   "metadata": {},
   "outputs": [
    {
     "data": {
      "text/plain": [
       "array([[[0.57720848, 0.77975829, 0.89112265],\n",
       "        [0.385248  , 0.10408727, 0.50380769],\n",
       "        [0.52152614, 0.8042915 , 0.14643946],\n",
       "        [0.19914984, 0.83857159, 0.17520366],\n",
       "        [0.38785703, 0.05216775, 0.45819827]],\n",
       "\n",
       "       [[0.31460706, 0.72419732, 0.78864479],\n",
       "        [0.45642861, 0.93812643, 0.10509829],\n",
       "        [0.43018605, 0.19447592, 0.18756772],\n",
       "        [0.87173845, 0.50208945, 0.26613362],\n",
       "        [0.53887228, 0.09088284, 0.98147216]]])"
      ]
     },
     "execution_count": 28,
     "metadata": {},
     "output_type": "execute_result"
    }
   ],
   "source": [
    "A.transpose((0, 2, 1))"
   ]
  },
  {
   "cell_type": "code",
   "execution_count": 27,
   "metadata": {},
   "outputs": [
    {
     "name": "stdout",
     "output_type": "stream",
     "text": [
      "[[0.57720848 0.77975829 0.89112265]\n",
      " [0.385248   0.10408727 0.50380769]\n",
      " [0.52152614 0.8042915  0.14643946]\n",
      " [0.19914984 0.83857159 0.17520366]\n",
      " [0.38785703 0.05216775 0.45819827]]\n",
      "[[0.57720848 0.385248   0.52152614 0.19914984 0.38785703]\n",
      " [0.77975829 0.10408727 0.8042915  0.83857159 0.05216775]\n",
      " [0.89112265 0.50380769 0.14643946 0.17520366 0.45819827]]\n"
     ]
    }
   ],
   "source": [
    "print(B[0])\n",
    "print(A[0])"
   ]
  },
  {
   "cell_type": "code",
   "execution_count": null,
   "metadata": {},
   "outputs": [],
   "source": []
  }
 ],
 "metadata": {
  "kernelspec": {
   "display_name": "Python 3",
   "language": "python",
   "name": "python3"
  },
  "language_info": {
   "codemirror_mode": {
    "name": "ipython",
    "version": 3
   },
   "file_extension": ".py",
   "mimetype": "text/x-python",
   "name": "python",
   "nbconvert_exporter": "python",
   "pygments_lexer": "ipython3",
   "version": "3.6.9"
  }
 },
 "nbformat": 4,
 "nbformat_minor": 4
}
